{
 "cells": [
  {
   "cell_type": "markdown",
   "metadata": {},
   "source": [
    "\n",
    "# Removing nonlinear trends with EEOF analysis\n",
    "\n",
    "This tutorial illustrates the application of Extended EOF (EEOF) analysis\n",
    "to isolate and remove nonlinear trends within a dataset.\n",
    "\n",
    "Let's begin by setting up the required packages and fetching the data.\n"
   ]
  },
  {
   "cell_type": "code",
   "execution_count": null,
   "metadata": {},
   "outputs": [],
   "source": [
    "import matplotlib.pyplot as plt\n",
    "import xarray as xr\n",
    "\n",
    "import xeofs as xe\n",
    "\n",
    "xr.set_options(display_expand_data=False)"
   ]
  },
  {
   "cell_type": "markdown",
   "metadata": {},
   "source": [
    "We load the sea surface temperature (SST) data from the xarray tutorial.\n",
    "The dataset consists of monthly averages from 1970 to 2021. To ensure the seasonal\n",
    "cycle doesn't overshadow the analysis, we remove the monthly climatologies.\n",
    "\n"
   ]
  },
  {
   "cell_type": "code",
   "execution_count": null,
   "metadata": {},
   "outputs": [],
   "source": [
    "sst = xr.tutorial.open_dataset(\"ersstv5\").sst\n",
    "sst = sst.groupby(\"time.month\") - sst.groupby(\"time.month\").mean(\"time\")"
   ]
  },
  {
   "cell_type": "markdown",
   "metadata": {},
   "source": [
    "We start by performing a standard EOF analysis on the dataset.\n",
    "\n"
   ]
  },
  {
   "cell_type": "code",
   "execution_count": null,
   "metadata": {},
   "outputs": [],
   "source": [
    "eof = xe.single.EOF(n_modes=10)\n",
    "eof.fit(sst, dim=\"time\")\n",
    "scores = eof.scores()\n",
    "components = eof.components()"
   ]
  },
  {
   "cell_type": "markdown",
   "metadata": {},
   "source": [
    "We immediately see that the first mode represents the global warming trend.\n",
    "Yet, the signal is somewhat muddled by short-term and year-to-year variations.\n",
    "Note the pronounced spikes around 1998 and 2016, hinting at the leakage of\n",
    "ENSO signatures into this mode.\n",
    "\n"
   ]
  },
  {
   "cell_type": "code",
   "execution_count": null,
   "metadata": {},
   "outputs": [],
   "source": [
    "fig, ax = plt.subplots(1, 2, figsize=(10, 5))\n",
    "scores.sel(mode=1).plot(ax=ax[0])\n",
    "components.sel(mode=1).plot(ax=ax[1])"
   ]
  },
  {
   "cell_type": "markdown",
   "metadata": {},
   "source": [
    "Now, let's try to identify this trend more cleanly. To this end, we perform an\n",
    "EEOF analysis on the same data with a suitably large embedding dimension.\n",
    "We choose an embedding dimensioncorresponding to 120 months which is large enough\n",
    "to capture long-term trends. To speed up computation, we apply the EEOF analysis\n",
    "to the extended (lag) covariance matrix derived from the first 50 PCs.\n",
    "\n"
   ]
  },
  {
   "cell_type": "code",
   "execution_count": null,
   "metadata": {},
   "outputs": [],
   "source": [
    "eeof = xe.single.ExtendedEOF(n_modes=5, tau=1, embedding=120, n_pca_modes=50)\n",
    "eeof.fit(sst, dim=\"time\")\n",
    "components_ext = eeof.components()\n",
    "scores_ext = eeof.scores()"
   ]
  },
  {
   "cell_type": "markdown",
   "metadata": {},
   "source": [
    "The first mode now represents the global warming trend much more clearly.\n",
    "\n"
   ]
  },
  {
   "cell_type": "code",
   "execution_count": null,
   "metadata": {},
   "outputs": [],
   "source": [
    "fig, ax = plt.subplots(1, 2, figsize=(10, 5))\n",
    "scores_ext.sel(mode=1).plot(ax=ax[0])\n",
    "components_ext.sel(mode=1, embedding=0).plot(ax=ax[1])"
   ]
  },
  {
   "cell_type": "markdown",
   "metadata": {},
   "source": [
    "We can use this to the first mode to remove this nonlinear trend from our original dataset.\n",
    "\n"
   ]
  },
  {
   "cell_type": "code",
   "execution_count": null,
   "metadata": {},
   "outputs": [],
   "source": [
    "sst_trends = eeof.inverse_transform(scores_ext.sel(mode=1))\n",
    "sst_detrended = sst - sst_trends"
   ]
  },
  {
   "cell_type": "markdown",
   "metadata": {},
   "source": [
    "Reapplying the standard EOF analysis on our now detrended dataset:\n",
    "\n"
   ]
  },
  {
   "cell_type": "code",
   "execution_count": null,
   "metadata": {},
   "outputs": [],
   "source": [
    "eof_model_detrended = xe.single.EOF(n_modes=5)\n",
    "eof_model_detrended.fit(sst_detrended, dim=\"time\")\n",
    "scores_detrended = eof_model_detrended.scores()\n",
    "components_detrended = eof_model_detrended.components()"
   ]
  },
  {
   "cell_type": "markdown",
   "metadata": {},
   "source": [
    "The first mode now represents ENSO without any trend component.\n",
    "\n"
   ]
  },
  {
   "cell_type": "code",
   "execution_count": null,
   "metadata": {},
   "outputs": [],
   "source": [
    "fig, ax = plt.subplots(1, 2, figsize=(10, 5))\n",
    "scores_detrended.sel(mode=1).plot(ax=ax[0])\n",
    "components_detrended.sel(mode=1).plot(ax=ax[1])"
   ]
  }
 ],
 "metadata": {
  "kernelspec": {
   "display_name": "Python 3",
   "language": "python",
   "name": "python3"
  },
  "language_info": {
   "codemirror_mode": {
    "name": "ipython",
    "version": 3
   },
   "file_extension": ".py",
   "mimetype": "text/x-python",
   "name": "python",
   "nbconvert_exporter": "python",
   "pygments_lexer": "ipython3",
   "version": "3.11.4"
  }
 },
 "nbformat": 4,
 "nbformat_minor": 0
}
