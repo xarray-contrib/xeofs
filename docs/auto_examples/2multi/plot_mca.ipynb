{
 "cells": [
  {
   "cell_type": "markdown",
   "metadata": {},
   "source": [
    "\n",
    "# Maximum Covariance Analysis\n",
    "\n",
    "Maximum Covariance Analysis (MCA) between two data sets.\n"
   ]
  },
  {
   "cell_type": "code",
   "execution_count": null,
   "metadata": {},
   "outputs": [],
   "source": [
    "# Load packages and data:\n",
    "import numpy as np\n",
    "import xarray as xr\n",
    "import matplotlib.pyplot as plt\n",
    "from matplotlib.gridspec import GridSpec\n",
    "from cartopy.crs import Orthographic, PlateCarree\n",
    "from cartopy.feature import LAND\n",
    "\n",
    "from xeofs.models import MCA"
   ]
  },
  {
   "cell_type": "markdown",
   "metadata": {},
   "source": [
    "Create 2 different DataArrays\n",
    "\n"
   ]
  },
  {
   "cell_type": "code",
   "execution_count": null,
   "metadata": {},
   "outputs": [],
   "source": [
    "t2m = xr.tutorial.load_dataset(\"air_temperature\")[\"air\"]\n",
    "da1 = t2m.isel(lon=slice(0, 26))\n",
    "da2 = t2m.isel(lon=slice(27, None))"
   ]
  },
  {
   "cell_type": "markdown",
   "metadata": {},
   "source": [
    "Perform MCA\n",
    "\n"
   ]
  },
  {
   "cell_type": "code",
   "execution_count": null,
   "metadata": {},
   "outputs": [],
   "source": [
    "mca = MCA(n_modes=20, standardize=False, use_coslat=True)\n",
    "mca.fit(da1, da2, dim=\"time\")"
   ]
  },
  {
   "cell_type": "markdown",
   "metadata": {},
   "source": [
    "Get singular vectors, projections (PCs), homogeneous and heterogeneous\n",
    "patterns:\n",
    "\n"
   ]
  },
  {
   "cell_type": "code",
   "execution_count": null,
   "metadata": {},
   "outputs": [],
   "source": [
    "singular_vectors = mca.components()\n",
    "scores = mca.scores()\n",
    "hom_pats, pvals_hom = mca.homogeneous_patterns()\n",
    "het_pats, pvals_het = mca.heterogeneous_patterns()"
   ]
  },
  {
   "cell_type": "markdown",
   "metadata": {},
   "source": [
    "When two fields are expected, the output of the above methods is a list of\n",
    "length 2, with the first and second entry containing the relevant object for\n",
    "``X`` and ``Y``. For example, the p-values obtained from the two-sided t-test\n",
    "for the homogeneous patterns of ``X`` are:\n",
    "\n"
   ]
  },
  {
   "cell_type": "code",
   "execution_count": null,
   "metadata": {},
   "outputs": [],
   "source": [
    "pvals_hom[0]"
   ]
  },
  {
   "cell_type": "markdown",
   "metadata": {},
   "source": [
    "Create a mask to identifiy where p-values are below 0.05\n",
    "\n"
   ]
  },
  {
   "cell_type": "code",
   "execution_count": null,
   "metadata": {},
   "outputs": [],
   "source": [
    "hom_mask = [values < 0.05 for values in pvals_hom]\n",
    "het_mask = [values < 0.05 for values in pvals_het]"
   ]
  },
  {
   "cell_type": "markdown",
   "metadata": {},
   "source": [
    "Plot some relevant quantities of mode 2.\n",
    "\n"
   ]
  },
  {
   "cell_type": "code",
   "execution_count": null,
   "metadata": {},
   "outputs": [],
   "source": [
    "lonlats = [\n",
    "    np.meshgrid(pvals_hom[0].lon.values, pvals_hom[0].lat.values),\n",
    "    np.meshgrid(pvals_hom[1].lon.values, pvals_hom[1].lat.values),\n",
    "]\n",
    "proj = [\n",
    "    Orthographic(central_latitude=30, central_longitude=-120),\n",
    "    Orthographic(central_latitude=30, central_longitude=-60),\n",
    "]\n",
    "kwargs1 = {\"cmap\": \"BrBG\", \"vmin\": -0.05, \"vmax\": 0.05, \"transform\": PlateCarree()}\n",
    "kwargs2 = {\"cmap\": \"RdBu\", \"vmin\": -1, \"vmax\": 1, \"transform\": PlateCarree()}\n",
    "\n",
    "mode = 2\n",
    "\n",
    "fig = plt.figure(figsize=(7, 14))\n",
    "gs = GridSpec(5, 2)\n",
    "ax1 = [fig.add_subplot(gs[0, i], projection=proj[i]) for i in range(2)]\n",
    "ax2 = [fig.add_subplot(gs[1, i], projection=proj[i]) for i in range(2)]\n",
    "ax3 = [fig.add_subplot(gs[2, i], projection=proj[i]) for i in range(2)]\n",
    "ax4 = [fig.add_subplot(gs[3, i]) for i in range(2)]\n",
    "\n",
    "for i, a in enumerate(ax1):\n",
    "    singular_vectors[i].sel(mode=mode).plot(ax=a, **kwargs1)\n",
    "\n",
    "for i, a in enumerate(ax2):\n",
    "    hom_pats[i].sel(mode=mode).plot(ax=a, **kwargs2)\n",
    "    a.scatter(\n",
    "        lonlats[i][0],\n",
    "        lonlats[i][1],\n",
    "        hom_mask[i].sel(mode=mode).values * 0.5,\n",
    "        color=\"k\",\n",
    "        alpha=0.5,\n",
    "        transform=PlateCarree(),\n",
    "    )\n",
    "for i, a in enumerate(ax3):\n",
    "    het_pats[i].sel(mode=mode).plot(ax=a, **kwargs2)\n",
    "    a.scatter(\n",
    "        lonlats[i][0],\n",
    "        lonlats[i][1],\n",
    "        het_mask[i].sel(mode=mode).values * 0.5,\n",
    "        color=\"k\",\n",
    "        alpha=0.5,\n",
    "        transform=PlateCarree(),\n",
    "    )\n",
    "\n",
    "for i, a in enumerate(ax4):\n",
    "    scores[i].sel(mode=mode).plot(ax=a)\n",
    "    a.set_xlabel(\"\")\n",
    "\n",
    "\n",
    "for a in np.ravel([ax1, ax2, ax3]):\n",
    "    a.coastlines(color=\".5\")\n",
    "    a.add_feature(LAND)\n",
    "\n",
    "plt.tight_layout()\n",
    "plt.savefig(\"mca.jpg\")"
   ]
  }
 ],
 "metadata": {
  "kernelspec": {
   "display_name": "Python 3",
   "language": "python",
   "name": "python3"
  },
  "language_info": {
   "codemirror_mode": {
    "name": "ipython",
    "version": 3
   },
   "file_extension": ".py",
   "mimetype": "text/x-python",
   "name": "python",
   "nbconvert_exporter": "python",
   "pygments_lexer": "ipython3",
   "version": "3.11.8"
  }
 },
 "nbformat": 4,
 "nbformat_minor": 0
}
