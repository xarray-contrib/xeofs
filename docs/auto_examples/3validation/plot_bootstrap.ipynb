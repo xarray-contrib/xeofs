{
 "cells": [
  {
   "cell_type": "markdown",
   "metadata": {},
   "source": [
    "\n",
    "# Significance testing of EOF analysis via bootstrap\n",
    "\n",
    "Test the significance of individual modes and obtain confidence intervals\n",
    "for both EOFs and PCs.\n"
   ]
  },
  {
   "cell_type": "code",
   "execution_count": null,
   "metadata": {},
   "outputs": [],
   "source": [
    "# Load packages and data:\n",
    "import numpy as np\n",
    "import xarray as xr\n",
    "import matplotlib.pyplot as plt\n",
    "from matplotlib.gridspec import GridSpec\n",
    "from cartopy.crs import Orthographic, PlateCarree\n",
    "\n",
    "from xeofs.models import EOF\n",
    "from xeofs.validation import EOFBootstrapper"
   ]
  },
  {
   "cell_type": "code",
   "execution_count": null,
   "metadata": {},
   "outputs": [],
   "source": [
    "t2m = xr.tutorial.load_dataset(\"air_temperature\")[\"air\"]"
   ]
  },
  {
   "cell_type": "markdown",
   "metadata": {},
   "source": [
    "Perform EOF analysis\n",
    "\n"
   ]
  },
  {
   "cell_type": "code",
   "execution_count": null,
   "metadata": {},
   "outputs": [],
   "source": [
    "model = EOF(n_modes=5, standardize=False)\n",
    "model.fit(t2m, dim=\"time\")\n",
    "expvar = model.explained_variance_ratio()\n",
    "components = model.components()\n",
    "scores = model.scores()"
   ]
  },
  {
   "cell_type": "markdown",
   "metadata": {},
   "source": [
    "Perform bootstrapping of the model to identy the number of significant modes.\n",
    "We perform 50 bootstraps.\n",
    "Note - if computationallly feasible - you typically want to choose higher\n",
    "numbers of bootstraps e.g. 1000.\n",
    "\n"
   ]
  },
  {
   "cell_type": "code",
   "execution_count": null,
   "metadata": {},
   "outputs": [],
   "source": [
    "n_boot = 50\n",
    "\n",
    "bs = EOFBootstrapper(n_bootstraps=n_boot)\n",
    "bs.fit(model)\n",
    "bs_expvar = bs.explained_variance()\n",
    "ci_expvar = bs_expvar.quantile([0.025, 0.975], \"n\")  # 95% confidence intervals\n",
    "\n",
    "q025 = ci_expvar.sel(quantile=0.025)\n",
    "q975 = ci_expvar.sel(quantile=0.975)\n",
    "\n",
    "is_significant = q025 - q975.shift({\"mode\": -1}) > 0\n",
    "n_significant_modes = (\n",
    "    is_significant.where(is_significant is True).cumsum(skipna=False).max().fillna(0)\n",
    ")\n",
    "print(\"{:} modes are significant at alpha=0.05\".format(n_significant_modes.values))"
   ]
  },
  {
   "cell_type": "markdown",
   "metadata": {},
   "source": [
    "The bootstrapping procedure identifies 3 significant modes. We can also\n",
    "compute the 95 % confidence intervals of the EOFs/PCs and mask out\n",
    "insignificant elements of the obtained EOFs.\n",
    "\n"
   ]
  },
  {
   "cell_type": "code",
   "execution_count": null,
   "metadata": {},
   "outputs": [],
   "source": [
    "ci_components = bs.components().quantile([0.025, 0.975], \"n\")\n",
    "ci_scores = bs.scores().quantile([0.025, 0.975], \"n\")\n",
    "\n",
    "is_sig_comps = np.sign(ci_components).prod(\"quantile\") > 0"
   ]
  },
  {
   "cell_type": "markdown",
   "metadata": {},
   "source": [
    "Summarize the results in a figure.\n",
    "\n"
   ]
  },
  {
   "cell_type": "code",
   "execution_count": null,
   "metadata": {},
   "outputs": [],
   "source": [
    "lons, lats = np.meshgrid(is_sig_comps.lon.values, is_sig_comps.lat.values)\n",
    "proj = Orthographic(central_latitude=30, central_longitude=-80)\n",
    "kwargs = {\"cmap\": \"RdBu\", \"vmin\": -0.05, \"vmax\": 0.05, \"transform\": PlateCarree()}\n",
    "\n",
    "fig = plt.figure(figsize=(10, 16))\n",
    "gs = GridSpec(5, 2)\n",
    "ax1 = [fig.add_subplot(gs[i, 0], projection=proj) for i in range(5)]\n",
    "ax2 = [fig.add_subplot(gs[i, 1]) for i in range(5)]\n",
    "\n",
    "for i, (a1, a2) in enumerate(zip(ax1, ax2)):\n",
    "    a1.coastlines(color=\".5\")\n",
    "    components.isel(mode=i).plot(ax=a1, **kwargs)\n",
    "    a1.scatter(\n",
    "        lons,\n",
    "        lats,\n",
    "        is_sig_comps.isel(mode=i).values * 0.5,\n",
    "        color=\"k\",\n",
    "        alpha=0.5,\n",
    "        transform=PlateCarree(),\n",
    "    )\n",
    "    ci_scores.isel(mode=i, quantile=0).plot(ax=a2, color=\".3\", lw=\".5\", label=\"2.5%\")\n",
    "    ci_scores.isel(mode=i, quantile=1).plot(ax=a2, color=\".3\", lw=\".5\", label=\"97.5%\")\n",
    "    scores.isel(mode=i).plot(ax=a2, lw=\".5\", alpha=0.5, label=\"PC\")\n",
    "    a2.legend(loc=2)\n",
    "\n",
    "plt.tight_layout()\n",
    "plt.savefig(\"bootstrap.jpg\")"
   ]
  }
 ],
 "metadata": {
  "kernelspec": {
   "display_name": "Python 3",
   "language": "python",
   "name": "python3"
  },
  "language_info": {
   "codemirror_mode": {
    "name": "ipython",
    "version": 3
   },
   "file_extension": ".py",
   "mimetype": "text/x-python",
   "name": "python",
   "nbconvert_exporter": "python",
   "pygments_lexer": "ipython3",
   "version": "3.11.8"
  }
 },
 "nbformat": 4,
 "nbformat_minor": 0
}
