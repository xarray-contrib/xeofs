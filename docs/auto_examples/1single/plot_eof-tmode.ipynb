{
 "cells": [
  {
   "cell_type": "markdown",
   "metadata": {},
   "source": [
    "\n",
    "# EOF analysis (T-mode)\n",
    "\n",
    "EOF analysis in T-mode maximises the spatial variance.\n",
    "\n",
    "Load packages and data:\n"
   ]
  },
  {
   "cell_type": "code",
   "execution_count": null,
   "metadata": {},
   "outputs": [],
   "source": [
    "import xarray as xr\n",
    "import matplotlib.pyplot as plt\n",
    "from matplotlib.gridspec import GridSpec\n",
    "from cartopy.crs import EqualEarth, PlateCarree\n",
    "\n",
    "from xeofs.models import EOF\n",
    "\n",
    "sst = xr.tutorial.open_dataset(\"ersstv5\")[\"sst\"]"
   ]
  },
  {
   "cell_type": "markdown",
   "metadata": {},
   "source": [
    "Perform the actual analysis\n",
    "\n"
   ]
  },
  {
   "cell_type": "code",
   "execution_count": null,
   "metadata": {},
   "outputs": [],
   "source": [
    "model = EOF(n_modes=5)\n",
    "model.fit(sst, dim=(\"lat\", \"lon\"))\n",
    "expvar = model.explained_variance_ratio()\n",
    "components = model.components()\n",
    "scores = model.scores()"
   ]
  },
  {
   "cell_type": "markdown",
   "metadata": {},
   "source": [
    "Create figure showing the first two modes\n",
    "\n"
   ]
  },
  {
   "cell_type": "code",
   "execution_count": null,
   "metadata": {},
   "outputs": [],
   "source": [
    "proj = EqualEarth(central_longitude=180)\n",
    "kwargs = {\"cmap\": \"RdBu\", \"transform\": PlateCarree()}\n",
    "\n",
    "fig = plt.figure(figsize=(10, 8))\n",
    "gs = GridSpec(3, 2, width_ratios=[2, 1])\n",
    "ax0 = [fig.add_subplot(gs[i, 0], projection=proj) for i in range(3)]\n",
    "ax1 = [fig.add_subplot(gs[i, 1]) for i in range(3)]\n",
    "\n",
    "for i, (a0, a1) in enumerate(zip(ax0, ax1)):\n",
    "    scores.sel(mode=i + 1).plot(ax=a0, **kwargs)\n",
    "    a0.coastlines(color=\".5\")\n",
    "    components.sel(mode=i + 1).plot(ax=a1)\n",
    "\n",
    "    a0.set_xlabel(\"\")\n",
    "\n",
    "plt.tight_layout()\n",
    "plt.savefig(\"eof-tmode.jpg\")"
   ]
  }
 ],
 "metadata": {
  "kernelspec": {
   "display_name": "Python 3",
   "language": "python",
   "name": "python3"
  },
  "language_info": {
   "codemirror_mode": {
    "name": "ipython",
    "version": 3
   },
   "file_extension": ".py",
   "mimetype": "text/x-python",
   "name": "python",
   "nbconvert_exporter": "python",
   "pygments_lexer": "ipython3",
   "version": "3.11.8"
  }
 },
 "nbformat": 4,
 "nbformat_minor": 0
}
