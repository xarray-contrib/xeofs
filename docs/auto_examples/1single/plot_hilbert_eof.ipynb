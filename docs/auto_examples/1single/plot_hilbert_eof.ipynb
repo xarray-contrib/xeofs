{
 "cells": [
  {
   "cell_type": "markdown",
   "metadata": {},
   "source": [
    "\n",
    "# Hilbert EOF analysis\n",
    "\n",
    "We demonstrate how to execute a Hilbert EOF analysis [1]_ [2]_\n",
    "[3]_. This method extends traditional EOF analysis into the complex domain,\n",
    "allowing the EOF components to have real and imaginary parts. This capability\n",
    "can reveal oscillatory patterns in datasets, which are common in Earth\n",
    "observations. For example, beyond typical examples like seasonal cycles, you can\n",
    "think of internal waves in the ocean, or the Quasi-Biennial Oscillation in the\n",
    "atmosphere.\n",
    "\n",
    "Using monthly sea surface temperature data from 1970 to 2021 as an example, we\n",
    "highlight the method's key features and address edge effects as a common\n",
    "challenge.\n",
    "\n",
    ".. [1] Rasmusson, E. M., Arkin, P. A., Chen, W.-Y. & Jalickee, J. B. Biennial\n",
    "    variations in surface temperature over the United States as revealed by\n",
    "    singular decomposition. Monthly Weather Review 109, 587–598 (1981).\n",
    ".. [2] Barnett, T. P. Interaction of the Monsoon and Pacific Trade Wind System\n",
    "    at Interannual Time Scales Part I: The Equatorial Zone. Monthly Weather\n",
    "    Review 111, 756–773 (1983).\n",
    ".. [3] Horel, J. Complex Principal Component Analysis: Theory and Examples. J.\n",
    "    Climate Appl. Meteor. 23, 1660–1673 (1984).\n",
    "\n",
    "Let's start by importing the necessary packages and loading the data:\n"
   ]
  },
  {
   "cell_type": "code",
   "execution_count": null,
   "metadata": {},
   "outputs": [],
   "source": [
    "import matplotlib.pyplot as plt\n",
    "import xarray as xr\n",
    "\n",
    "import xeofs as xe\n",
    "\n",
    "xr.set_options(display_expand_attrs=False)\n",
    "\n",
    "sst = xr.tutorial.open_dataset(\"ersstv5\").sst\n",
    "sst"
   ]
  },
  {
   "cell_type": "markdown",
   "metadata": {},
   "source": [
    "We fit the ``HilbertEOF`` model directly to the raw data, retaining the seasonal\n",
    "cycle for study. The model initialization specifies the desired number of\n",
    "modes. The ``use_coslat`` parameter is set to ``True`` to adjust for grid\n",
    "convergence at the poles. While the ``HilbertEOF`` class offers padding\n",
    "options to mitigate potential edge effects, we'll begin with no padding.\n",
    "\n"
   ]
  },
  {
   "cell_type": "code",
   "execution_count": null,
   "metadata": {},
   "outputs": [],
   "source": [
    "kwargs = dict(n_modes=4, use_coslat=True, random_state=7)\n",
    "model = xe.single.HilbertEOF(padding=\"none\", **kwargs)"
   ]
  },
  {
   "cell_type": "markdown",
   "metadata": {},
   "source": [
    "Now, we fit the model to the data and extract the explained variance.\n",
    "\n"
   ]
  },
  {
   "cell_type": "code",
   "execution_count": null,
   "metadata": {},
   "outputs": [],
   "source": [
    "model.fit(sst, dim=\"time\")\n",
    "expvar = model.explained_variance()\n",
    "expvar_ratio = model.explained_variance_ratio()"
   ]
  },
  {
   "cell_type": "markdown",
   "metadata": {},
   "source": [
    "Let's have a look at the explained variance of the first five modes:\n",
    "\n"
   ]
  },
  {
   "cell_type": "code",
   "execution_count": null,
   "metadata": {},
   "outputs": [],
   "source": [
    "expvar.round(0)"
   ]
  },
  {
   "cell_type": "markdown",
   "metadata": {},
   "source": [
    "Clearly, the first mode completely dominates and already explains a\n",
    "substantial amount of variance. If we look at the fraction of explained\n",
    "variance, we see that the first mode explains about 88.8 %.\n",
    "\n"
   ]
  },
  {
   "cell_type": "code",
   "execution_count": null,
   "metadata": {},
   "outputs": [],
   "source": [
    "(expvar_ratio * 100).round(1)"
   ]
  },
  {
   "cell_type": "markdown",
   "metadata": {},
   "source": [
    "In comparison to standard EOF analysis (check the corresponding example,\n",
    "S-mode), the first complex mode seems to integrate the first two standard\n",
    "modes in terms of explained variance. This makes sense as the two modes in\n",
    "standard EOF are both showing parts of an annual cycle (which are in\n",
    "quadrature) and thus the complex mode combines both of them. Let's confirm our\n",
    "hypothesis by looking at the real part the complex-valued scores:\n",
    "\n"
   ]
  },
  {
   "cell_type": "code",
   "execution_count": null,
   "metadata": {},
   "outputs": [],
   "source": [
    "scores = model.scores()\n",
    "scores.real.plot.line(x=\"time\", col=\"mode\", lw=1, ylim=(-0.1, 0.1))\n",
    "plt.show()"
   ]
  },
  {
   "cell_type": "markdown",
   "metadata": {},
   "source": [
    "And indeed the annual cycle is completed incorporated into the first mode,\n",
    "while the second mode shows a semi-annual cycle (mode 3 in standard EOF).\n",
    "However, mode three and four look unusual. While showing some similarity to\n",
    "ENSO (e.g. in mode 3 peaks in 1982, 1998 and 2016), they exhibit a \"running\n",
    "away\" behaviour towards the boundaries of the time series. This a common issue\n",
    "in Hilbert EOF analysis which is based on the Hilbert transform (a\n",
    "convolution) that suffers from the absence of information at the time series\n",
    "boundaries. One way to mitigate this is to artificially extend the time series\n",
    "also known as *padding*. In ``xeofs``, you can enable such a padding by\n",
    "setting the ``padding`` parameter to ``\"exp\"`` which will extent the\n",
    "boundaries by an exponential decaying function. The ``decay_factor`` parameter\n",
    "controls the decay rate of the exponential function measured in multiples of\n",
    "the time series length. Let's see how the decay parameter impacts the results:\n",
    "\n"
   ]
  },
  {
   "cell_type": "code",
   "execution_count": null,
   "metadata": {},
   "outputs": [],
   "source": [
    "model_ext = xe.single.HilbertEOF(padding=\"exp\", decay_factor=0.01, **kwargs)\n",
    "model_ext.fit(sst, dim=\"time\")\n",
    "scores_ext = model_ext.scores().sel(mode=slice(1, 4))\n",
    "\n",
    "scores_ext.real.plot.line(x=\"time\", col=\"mode\", lw=1, ylim=(-0.1, 0.1))\n",
    "plt.show()"
   ]
  },
  {
   "cell_type": "markdown",
   "metadata": {},
   "source": [
    "And indeed, padding the time series effectively reduced the artifacts at the\n",
    "boundaries. Lastly, we examine the complex component amplitudes and phases.\n",
    "\n"
   ]
  },
  {
   "cell_type": "code",
   "execution_count": null,
   "metadata": {},
   "outputs": [],
   "source": [
    "comp_amps = model.components_amplitude()\n",
    "comp_amps.plot(col=\"mode\", vmin=0, vmax=0.025)\n",
    "plt.show()"
   ]
  },
  {
   "cell_type": "markdown",
   "metadata": {},
   "source": [
    "The component phases of the first mode clearly show the seasonal cycle as the\n",
    "northern and southern hemisphere are phase shifted by 180 degrees (white and\n",
    "black). Note the blueish regions in the central East Pacific and Indian Ocean\n",
    "which indicate a phase shift of 90 degrees compared to the main annual cycle.\n",
    "This is in agreement with mode 3 of the standard EOF analysis.\n",
    "\n"
   ]
  },
  {
   "cell_type": "code",
   "execution_count": null,
   "metadata": {},
   "outputs": [],
   "source": [
    "comp_phases = model.components_phase()\n",
    "comp_phases.plot(col=\"mode\", cmap=\"twilight\")\n",
    "plt.show()"
   ]
  }
 ],
 "metadata": {
  "kernelspec": {
   "display_name": "Python 3",
   "language": "python",
   "name": "python3"
  },
  "language_info": {
   "codemirror_mode": {
    "name": "ipython",
    "version": 3
   },
   "file_extension": ".py",
   "mimetype": "text/x-python",
   "name": "python",
   "nbconvert_exporter": "python",
   "pygments_lexer": "ipython3",
   "version": "3.11.4"
  }
 },
 "nbformat": 4,
 "nbformat_minor": 0
}
