{
 "cells": [
  {
   "cell_type": "markdown",
   "metadata": {},
   "source": [
    "\n",
    "# Varimax-rotated Multivariate EOF analysis\n",
    "\n",
    "Multivariate EOF analysis with additional Varimax rotation.\n"
   ]
  },
  {
   "cell_type": "code",
   "execution_count": null,
   "metadata": {},
   "outputs": [],
   "source": [
    "# Load packages and data:\n",
    "import xarray as xr\n",
    "import matplotlib.pyplot as plt\n",
    "from matplotlib.gridspec import GridSpec\n",
    "from cartopy.crs import PlateCarree\n",
    "\n",
    "from xeofs.models import EOF, EOFRotator"
   ]
  },
  {
   "cell_type": "markdown",
   "metadata": {},
   "source": [
    "Create four different dataarrayss\n",
    "\n"
   ]
  },
  {
   "cell_type": "code",
   "execution_count": null,
   "metadata": {},
   "outputs": [],
   "source": [
    "sst = xr.tutorial.open_dataset(\"ersstv5\")[\"sst\"]\n",
    "subset1 = sst.isel(lon=slice(0, 45))\n",
    "subset2 = sst.isel(lon=slice(46, 90))\n",
    "subset3 = sst.isel(lon=slice(91, 135))\n",
    "subset4 = sst.isel(lon=slice(136, None))"
   ]
  },
  {
   "cell_type": "markdown",
   "metadata": {},
   "source": [
    "Perform the actual analysis\n",
    "\n"
   ]
  },
  {
   "cell_type": "code",
   "execution_count": null,
   "metadata": {},
   "outputs": [],
   "source": [
    "multivariate_data = [subset1, subset2, subset3, subset4]\n",
    "mpca = EOF(n_modes=100, standardize=False, use_coslat=True)\n",
    "mpca.fit(multivariate_data, dim=\"time\")\n",
    "rotator = EOFRotator(n_modes=20)\n",
    "rotator.fit(mpca)\n",
    "rcomponents = rotator.components()\n",
    "rscores = rotator.scores()"
   ]
  },
  {
   "cell_type": "markdown",
   "metadata": {},
   "source": [
    "Plot mode 1\n",
    "\n"
   ]
  },
  {
   "cell_type": "code",
   "execution_count": null,
   "metadata": {},
   "outputs": [],
   "source": [
    "mode = 5\n",
    "proj = PlateCarree()\n",
    "kwargs = {\n",
    "    \"cmap\": \"RdBu\",\n",
    "    \"vmin\": -0.05,\n",
    "    \"vmax\": 0.05,\n",
    "    \"transform\": proj,\n",
    "    \"add_colorbar\": False,\n",
    "}\n",
    "\n",
    "fig = plt.figure(figsize=(7.3, 6))\n",
    "fig.subplots_adjust(wspace=0)\n",
    "gs = GridSpec(2, 4, figure=fig, width_ratios=[1, 1, 1, 1])\n",
    "ax = [fig.add_subplot(gs[0, i], projection=proj) for i in range(4)]\n",
    "ax_pc = fig.add_subplot(gs[1, :])\n",
    "\n",
    "# PC\n",
    "rscores.sel(mode=mode).plot(ax=ax_pc)\n",
    "ax_pc.set_xlabel(\"\")\n",
    "ax_pc.set_title(\"\")\n",
    "\n",
    "# EOFs\n",
    "for i, (a, comps) in enumerate(zip(ax, rcomponents)):\n",
    "    a.coastlines(color=\".5\")\n",
    "    comps.sel(mode=mode).plot(ax=a, **kwargs)\n",
    "    a.set_xticks([], [])\n",
    "    a.set_yticks([], [])\n",
    "    a.set_xlabel(\"\")\n",
    "    a.set_ylabel(\"\")\n",
    "    a.set_title(\"Subset {:}\".format(i + 1))\n",
    "ax[0].set_ylabel(\"EOFs\")\n",
    "fig.suptitle(\"Mode {:}\".format(mode))\n",
    "plt.savefig(\"mreof-analysis.jpg\")"
   ]
  }
 ],
 "metadata": {
  "kernelspec": {
   "display_name": "Python 3",
   "language": "python",
   "name": "python3"
  },
  "language_info": {
   "codemirror_mode": {
    "name": "ipython",
    "version": 3
   },
   "file_extension": ".py",
   "mimetype": "text/x-python",
   "name": "python",
   "nbconvert_exporter": "python",
   "pygments_lexer": "ipython3",
   "version": "3.11.8"
  }
 },
 "nbformat": 4,
 "nbformat_minor": 0
}
