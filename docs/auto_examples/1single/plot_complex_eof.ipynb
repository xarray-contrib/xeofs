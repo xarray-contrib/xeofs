{
 "cells": [
  {
   "cell_type": "markdown",
   "metadata": {},
   "source": [
    "\n",
    "# Complex EOF analysis\n",
    "\n",
    "In this tutorial, we'll walk through how to perform a Complex EOF analysis on\n",
    "the zonal and meridional wind components.\n",
    "\n",
    "Let's start by importing the necessary packages and loading the data:\n"
   ]
  },
  {
   "cell_type": "code",
   "execution_count": null,
   "metadata": {},
   "outputs": [],
   "source": [
    "import matplotlib.pyplot as plt\n",
    "import xarray as xr\n",
    "\n",
    "import xeofs as xe\n",
    "\n",
    "xr.set_options(display_expand_attrs=False)"
   ]
  },
  {
   "cell_type": "markdown",
   "metadata": {},
   "source": [
    "For this example, we'll use the ERA-Interim tutorial dataset ``eraint_uvz``:\n",
    "\n"
   ]
  },
  {
   "cell_type": "code",
   "execution_count": null,
   "metadata": {},
   "outputs": [],
   "source": [
    "uvz = xr.tutorial.open_dataset(\"eraint_uvz\")\n",
    "uvz"
   ]
  },
  {
   "cell_type": "markdown",
   "metadata": {},
   "source": [
    "This dataset contains the zonal, meridional, and vertical wind components at\n",
    "three different atmospheric levels. Note that the data only covers two months,\n",
    "so we have just two time steps (samples). While this isn't enough for a robust\n",
    "EOF analysis, we'll proceed for demonstration purposes. Now, let's combine the\n",
    "zonal (``u``) and meridional (``v``) wind components into a complex-valued\n",
    "dataset:\n",
    "\n"
   ]
  },
  {
   "cell_type": "code",
   "execution_count": null,
   "metadata": {},
   "outputs": [],
   "source": [
    "Z = uvz[\"u\"] + 1j * uvz[\"v\"]"
   ]
  },
  {
   "cell_type": "markdown",
   "metadata": {},
   "source": [
    "Next, we'll initialize and fit the ``ComplexEOF`` model to our data. The\n",
    "``xeofs`` package makes this easy by allowing us to specify the sample\n",
    "dimension (``month``), automatically performing the Complex EOF analysis\n",
    "across all three atmospheric levels. As a standard practice, we'll also weigh\n",
    "each grid cell by the square root of the cosine of the latitude\n",
    "(``use_coslat=True``).\n",
    "\n"
   ]
  },
  {
   "cell_type": "code",
   "execution_count": null,
   "metadata": {},
   "outputs": [],
   "source": [
    "model = xe.single.ComplexEOF(n_modes=1, use_coslat=True, random_state=7)\n",
    "model.fit(Z, dim=\"month\")"
   ]
  },
  {
   "cell_type": "markdown",
   "metadata": {},
   "source": [
    "Instead of just extracting the complex-valued components, we can also get the\n",
    "amplitude and phase of these components. Let's start by looking at the\n",
    "amplitude of the first mode:\n",
    "\n"
   ]
  },
  {
   "cell_type": "code",
   "execution_count": null,
   "metadata": {},
   "outputs": [],
   "source": [
    "spatial_ampltiudes = model.components_amplitude()\n",
    "spatial_phases = model.components_phase()\n",
    "\n",
    "spatial_ampltiudes.sel(mode=1).plot(col=\"level\")\n",
    "plt.show()"
   ]
  },
  {
   "cell_type": "markdown",
   "metadata": {},
   "source": [
    "It looks like the first mode picks up a pattern resembling the location of the\n",
    "subtropical jet stream around ±30º latitude, particularly strong in the upper\n",
    "troposphere at 200 hPa and weaker toward the surface. We can also plot the\n",
    "phase of the first mode. To keep the plot clear, we'll only show the phase\n",
    "where the amplitude is above a certain threshold (e.g., 0.004):\n",
    "\n"
   ]
  },
  {
   "cell_type": "code",
   "execution_count": null,
   "metadata": {},
   "outputs": [],
   "source": [
    "relevant_phases = spatial_phases.where(spatial_ampltiudes > 0.004)\n",
    "relevant_phases.sel(mode=1).plot(col=\"level\", cmap=\"twilight\")\n",
    "plt.show()"
   ]
  }
 ],
 "metadata": {
  "kernelspec": {
   "display_name": "Python 3",
   "language": "python",
   "name": "python3"
  },
  "language_info": {
   "codemirror_mode": {
    "name": "ipython",
    "version": 3
   },
   "file_extension": ".py",
   "mimetype": "text/x-python",
   "name": "python",
   "nbconvert_exporter": "python",
   "pygments_lexer": "ipython3",
   "version": "3.11.4"
  }
 },
 "nbformat": 4,
 "nbformat_minor": 0
}
