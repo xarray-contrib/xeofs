{
 "cells": [
  {
   "cell_type": "markdown",
   "metadata": {},
   "source": [
    "\n",
    "# Sparse PCA\n",
    "\n",
    "This example demonstrates the application of sparse PCA [1]_ to sea surface temperature data. Sparse PCA is an alternative to rotated PCA, where the components are sparse, often providing a more interpretable solution.\n",
    "\n",
    "We replicate the analysis from the original paper [1]_, which identifies the ENSO (El Niño-Southern Oscillation) as the fourth mode, representing about 1% of the total variance. The original study focused on weekly sea surface temperatures from satellite data, whereas we use monthly data from ERSSTv5. Consequently, our results may not match exactly, but they should be quite similar.\n",
    "\n",
    "## References\n",
    ".. [1] Erichson, N. B. et al. Sparse Principal Component Analysis via Variable Projection. SIAM J. Appl. Math. 80, 977-1002 (2020).\n"
   ]
  },
  {
   "cell_type": "code",
   "execution_count": null,
   "metadata": {},
   "outputs": [],
   "source": [
    "# Load packages and data:\n",
    "import matplotlib.pyplot as plt\n",
    "import xarray as xr\n",
    "from cartopy.crs import EqualEarth, PlateCarree\n",
    "from matplotlib.gridspec import GridSpec\n",
    "\n",
    "import xeofs as xe"
   ]
  },
  {
   "cell_type": "markdown",
   "metadata": {},
   "source": [
    "We use sea surface temperature data from 1990 to 2017, consistent with the original paper.\n",
    "\n"
   ]
  },
  {
   "cell_type": "code",
   "execution_count": null,
   "metadata": {},
   "outputs": [],
   "source": [
    "sst = xr.tutorial.open_dataset(\"ersstv5\")[\"sst\"]\n",
    "sst = sst.sel(time=slice(\"1990\", \"2017\"))"
   ]
  },
  {
   "cell_type": "markdown",
   "metadata": {},
   "source": [
    "We perform sparse PCA using the `alpha` and `beta` parameters, which define the sparsity imposed by the elastic net (refer to Table 1 in the paper). In our analysis, we set `alpha` to 1e-5, as specified by the authors. Although the authors do not specify a value for `beta`, it appears that the results are not highly sensitive to this parameter. Therefore, we use the default `beta` value of 1e-4.\n",
    "\n"
   ]
  },
  {
   "cell_type": "code",
   "execution_count": null,
   "metadata": {},
   "outputs": [],
   "source": [
    "model = xe.single.SparsePCA(n_modes=4, alpha=1e-5)\n",
    "model.fit(sst, dim=\"time\")\n",
    "expvar = model.explained_variance()\n",
    "expvar_ratio = model.explained_variance_ratio()\n",
    "components = model.components()\n",
    "scores = model.scores()"
   ]
  },
  {
   "cell_type": "markdown",
   "metadata": {},
   "source": [
    "The explained variance fraction confirms that the fourth mode explains about 1% of the total variance, which is consistent with the original paper.\n",
    "\n"
   ]
  },
  {
   "cell_type": "code",
   "execution_count": null,
   "metadata": {},
   "outputs": [],
   "source": [
    "print(\"Explained variance: \", expvar.round(0).values)\n",
    "print(\"Relative: \", (expvar_ratio * 100).round(1).values)"
   ]
  },
  {
   "cell_type": "markdown",
   "metadata": {},
   "source": [
    "Examining the first four modes, we clearly identify ENSO as the fourth mode.\n",
    "\n"
   ]
  },
  {
   "cell_type": "code",
   "execution_count": null,
   "metadata": {},
   "outputs": [],
   "source": [
    "proj = EqualEarth(central_longitude=180)\n",
    "kwargs = {\"cmap\": \"RdBu\", \"vmin\": -0.05, \"vmax\": 0.05, \"transform\": PlateCarree()}\n",
    "\n",
    "fig = plt.figure(figsize=(10, 12))\n",
    "gs = GridSpec(4, 2, width_ratios=[1, 2])\n",
    "ax0 = [fig.add_subplot(gs[i, 0]) for i in range(4)]\n",
    "ax1 = [fig.add_subplot(gs[i, 1], projection=proj) for i in range(4)]\n",
    "\n",
    "for i, (a0, a1) in enumerate(zip(ax0, ax1)):\n",
    "    scores.sel(mode=i + 1).plot(ax=a0)\n",
    "    a1.coastlines(color=\".5\")\n",
    "    components.sel(mode=i + 1).plot(ax=a1, **kwargs)\n",
    "\n",
    "    a0.set_xlabel(\"\")\n",
    "\n",
    "plt.tight_layout()\n",
    "plt.savefig(\"sparse_pca.jpg\")"
   ]
  }
 ],
 "metadata": {
  "kernelspec": {
   "display_name": "Python 3",
   "language": "python",
   "name": "python3"
  },
  "language_info": {
   "codemirror_mode": {
    "name": "ipython",
    "version": 3
   },
   "file_extension": ".py",
   "mimetype": "text/x-python",
   "name": "python",
   "nbconvert_exporter": "python",
   "pygments_lexer": "ipython3",
   "version": "3.11.4"
  }
 },
 "nbformat": 4,
 "nbformat_minor": 0
}
