{
 "cells": [
  {
   "cell_type": "markdown",
   "metadata": {},
   "source": [
    "\n",
    "# EOF analysis (S-mode)\n",
    "\n",
    "EOF analysis in S-mode maximises the temporal variance.\n"
   ]
  },
  {
   "cell_type": "code",
   "execution_count": null,
   "metadata": {},
   "outputs": [],
   "source": [
    "# Load packages and data:\n",
    "import xarray as xr\n",
    "import matplotlib.pyplot as plt\n",
    "from matplotlib.gridspec import GridSpec\n",
    "from cartopy.crs import EqualEarth, PlateCarree\n",
    "\n",
    "from xeofs.models import EOF"
   ]
  },
  {
   "cell_type": "code",
   "execution_count": null,
   "metadata": {},
   "outputs": [],
   "source": [
    "sst = xr.tutorial.open_dataset(\"ersstv5\")[\"sst\"]"
   ]
  },
  {
   "cell_type": "markdown",
   "metadata": {},
   "source": [
    "Perform the actual analysis\n",
    "\n"
   ]
  },
  {
   "cell_type": "code",
   "execution_count": null,
   "metadata": {},
   "outputs": [],
   "source": [
    "model = EOF(n_modes=5, use_coslat=True)\n",
    "model.fit(sst, dim=\"time\")\n",
    "expvar = model.explained_variance()\n",
    "expvar_ratio = model.explained_variance_ratio()\n",
    "components = model.components()\n",
    "scores = model.scores()"
   ]
  },
  {
   "cell_type": "markdown",
   "metadata": {},
   "source": [
    "Explained variance fraction\n",
    "\n"
   ]
  },
  {
   "cell_type": "code",
   "execution_count": null,
   "metadata": {},
   "outputs": [],
   "source": [
    "print(\"Explained variance: \", expvar.round(0).values)\n",
    "print(\"Relative: \", (expvar_ratio * 100).round(1).values)"
   ]
  },
  {
   "cell_type": "markdown",
   "metadata": {},
   "source": [
    "Create figure showing the first two modes\n",
    "\n"
   ]
  },
  {
   "cell_type": "code",
   "execution_count": null,
   "metadata": {},
   "outputs": [],
   "source": [
    "proj = EqualEarth(central_longitude=180)\n",
    "kwargs = {\"cmap\": \"RdBu\", \"vmin\": -0.05, \"vmax\": 0.05, \"transform\": PlateCarree()}\n",
    "\n",
    "fig = plt.figure(figsize=(10, 8))\n",
    "gs = GridSpec(3, 2, width_ratios=[1, 2])\n",
    "ax0 = [fig.add_subplot(gs[i, 0]) for i in range(3)]\n",
    "ax1 = [fig.add_subplot(gs[i, 1], projection=proj) for i in range(3)]\n",
    "\n",
    "for i, (a0, a1) in enumerate(zip(ax0, ax1)):\n",
    "    scores.sel(mode=i + 1).plot(ax=a0)\n",
    "    a1.coastlines(color=\".5\")\n",
    "    components.sel(mode=i + 1).plot(ax=a1, **kwargs)\n",
    "\n",
    "    a0.set_xlabel(\"\")\n",
    "\n",
    "plt.tight_layout()\n",
    "plt.savefig(\"eof-smode.jpg\")"
   ]
  }
 ],
 "metadata": {
  "kernelspec": {
   "display_name": "Python 3",
   "language": "python",
   "name": "python3"
  },
  "language_info": {
   "codemirror_mode": {
    "name": "ipython",
    "version": 3
   },
   "file_extension": ".py",
   "mimetype": "text/x-python",
   "name": "python",
   "nbconvert_exporter": "python",
   "pygments_lexer": "ipython3",
   "version": "3.11.8"
  }
 },
 "nbformat": 4,
 "nbformat_minor": 0
}
