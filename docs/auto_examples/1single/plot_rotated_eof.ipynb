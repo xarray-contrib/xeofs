{
 "cells": [
  {
   "cell_type": "markdown",
   "metadata": {},
   "source": [
    "\n",
    "# Rotated EOF analysis\n",
    "\n",
    "EOF (Empirical Orthogonal Function) analysis is commonly used in climate science, interpreting\n",
    "the derived eigenvectors (EOFs) as climatic variability patterns. However, due to\n",
    "the inherent orthogonality constraint in EOF analysis, the interpretation of all\n",
    "but the first EOF can be problematic. Rotated EOF analysis, using optimization criteria\n",
    "like Varimax and Promax, offers a solution by releasing this orthogonality constraint,\n",
    "thus enabling a more accurate interpretation of variability patterns.\n",
    "\n",
    "Both Varimax (orthogonal) and Promax (oblique) rotations result in \"sparse\" solutions,\n",
    "meaning the EOFs become more interpretable by limiting the number of variables that\n",
    "contribute to each EOF. This rotation effectively serves as a regularization method\n",
    "for the EOF solution, with the strength of regularization determined by the power parameter;\n",
    "the higher the value, the sparser the EOFs.\n",
    "\n",
    "Promax rotation, with a small regularization value (i.e., power=1), reverts to Varimax\n",
    "rotation. In this context, we compare the first three modes of EOF analysis: (1)\n",
    "without regularization, (2) with Varimax rotation, and (3) with Promax rotation.\n",
    "\n",
    "We'll start by loading the necessary packages and data:\n"
   ]
  },
  {
   "cell_type": "code",
   "execution_count": null,
   "metadata": {},
   "outputs": [],
   "source": [
    "import xarray as xr\n",
    "import matplotlib.pyplot as plt\n",
    "import seaborn as sns\n",
    "from matplotlib.gridspec import GridSpec\n",
    "from cartopy.crs import Robinson, PlateCarree\n",
    "\n",
    "from xeofs.models import EOF, EOFRotator\n",
    "\n",
    "\n",
    "sns.set_context(\"paper\")\n",
    "\n",
    "sst = xr.tutorial.open_dataset(\"ersstv5\")[\"sst\"]"
   ]
  },
  {
   "cell_type": "markdown",
   "metadata": {},
   "source": [
    "Perform the actual analysis\n",
    "\n"
   ]
  },
  {
   "cell_type": "code",
   "execution_count": null,
   "metadata": {},
   "outputs": [],
   "source": [
    "components = []\n",
    "scores = []\n",
    "# (1) Standard EOF without regularization\n",
    "model = EOF(n_modes=100, standardize=True, use_coslat=True)\n",
    "model.fit(sst, dim=\"time\")\n",
    "components.append(model.components())\n",
    "scores.append(model.scores())\n",
    "# (2) Varimax-rotated EOF analysis\n",
    "rot_var = EOFRotator(n_modes=50, power=1)\n",
    "rot_var.fit(model)\n",
    "components.append(rot_var.components())\n",
    "scores.append(rot_var.scores())\n",
    "# (3) Promax-rotated EOF analysis\n",
    "rot_pro = EOFRotator(n_modes=50, power=4)\n",
    "rot_pro.fit(model)\n",
    "components.append(rot_pro.components())\n",
    "scores.append(rot_pro.scores())"
   ]
  },
  {
   "cell_type": "markdown",
   "metadata": {},
   "source": [
    "Create figure showing the first 6 modes for all 3 cases. While the first mode\n",
    "is very similar in all three cases the subsequent modes of the standard\n",
    "solution exhibit dipole and tripole-like patterns. Under Varimax and Promax\n",
    "rotation, these structures completely disappear suggesting that these patterns\n",
    "were mere artifacts due to the orthogonality.\n",
    "\n"
   ]
  },
  {
   "cell_type": "code",
   "execution_count": null,
   "metadata": {},
   "outputs": [],
   "source": [
    "proj = Robinson(central_longitude=180)\n",
    "kwargs = {\n",
    "    \"cmap\": \"RdBu\",\n",
    "    \"transform\": PlateCarree(),\n",
    "    \"vmin\": -0.03,\n",
    "    \"vmax\": +0.03,\n",
    "    \"add_colorbar\": False,\n",
    "}\n",
    "\n",
    "fig = plt.figure(figsize=(10, 5))\n",
    "gs = GridSpec(3, 4)\n",
    "ax_std = [fig.add_subplot(gs[0, i], projection=proj) for i in range(4)]\n",
    "ax_var = [fig.add_subplot(gs[1, i], projection=proj) for i in range(4)]\n",
    "ax_pro = [fig.add_subplot(gs[2, i], projection=proj) for i in range(4)]\n",
    "\n",
    "for i, (a0, a1, a2) in enumerate(zip(ax_std, ax_var, ax_pro)):\n",
    "    mode = i + 1\n",
    "    a0.coastlines(color=\".5\")\n",
    "    a1.coastlines(color=\".5\")\n",
    "    a2.coastlines(color=\".5\")\n",
    "    components[0].sel(mode=mode).plot(ax=a0, **kwargs)\n",
    "    components[1].sel(mode=mode).plot(ax=a1, **kwargs)\n",
    "    components[2].sel(mode=mode).plot(ax=a2, **kwargs)\n",
    "\n",
    "title_kwargs = dict(rotation=90, va=\"center\", weight=\"bold\")\n",
    "ax_std[0].text(-0.1, 0.5, \"Standard\", transform=ax_std[0].transAxes, **title_kwargs)\n",
    "ax_var[0].text(-0.1, 0.5, \"Varimax\", transform=ax_var[0].transAxes, **title_kwargs)\n",
    "ax_pro[0].text(-0.1, 0.5, \"Promax\", transform=ax_pro[0].transAxes, **title_kwargs)\n",
    "\n",
    "plt.tight_layout()\n",
    "plt.savefig(\"rotated_eof.jpg\", dpi=200)"
   ]
  }
 ],
 "metadata": {
  "kernelspec": {
   "display_name": "Python 3",
   "language": "python",
   "name": "python3"
  },
  "language_info": {
   "codemirror_mode": {
    "name": "ipython",
    "version": 3
   },
   "file_extension": ".py",
   "mimetype": "text/x-python",
   "name": "python",
   "nbconvert_exporter": "python",
   "pygments_lexer": "ipython3",
   "version": "3.11.8"
  }
 },
 "nbformat": 4,
 "nbformat_minor": 0
}
