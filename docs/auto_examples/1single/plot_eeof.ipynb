{
 "cells": [
  {
   "cell_type": "markdown",
   "metadata": {},
   "source": [
    "\n",
    "# Extented EOF analysis\n",
    "\n",
    "This example demonstrates Extended EOF (EEOF) analysis on ``xarray`` tutorial\n",
    "data. EEOF analysis, also termed as Multivariate/Multichannel Singular\n",
    "Spectrum Analysis, advances traditional EOF analysis to capture propagating\n",
    "signals or oscillations in multivariate datasets. At its core, this\n",
    "involves the formulation of a lagged covariance matrix that encapsulates\n",
    "both spatial and temporal correlations. Subsequently, this matrix is\n",
    "decomposed to yield its eigenvectors (components) and eigenvalues (explained variance).\n",
    "\n",
    "Let's begin by setting up the required packages and fetching the data:\n"
   ]
  },
  {
   "cell_type": "code",
   "execution_count": null,
   "metadata": {},
   "outputs": [],
   "source": [
    "import xarray as xr\n",
    "import xeofs as xe\n",
    "import matplotlib.pyplot as plt\n",
    "\n",
    "xr.set_options(display_expand_data=False)"
   ]
  },
  {
   "cell_type": "markdown",
   "metadata": {},
   "source": [
    "Load the tutorial data.\n",
    "\n"
   ]
  },
  {
   "cell_type": "code",
   "execution_count": null,
   "metadata": {},
   "outputs": [],
   "source": [
    "t2m = xr.tutorial.load_dataset(\"air_temperature\").air"
   ]
  },
  {
   "cell_type": "markdown",
   "metadata": {},
   "source": [
    "Prior to conducting the EEOF analysis, it's essential to determine the\n",
    "structure of the lagged covariance matrix. This entails defining the time\n",
    "delay ``tau`` and the ``embedding`` dimension. The former signifies the\n",
    "interval between the original and lagged time series, while the latter\n",
    "dictates the number of time-lagged copies in the delay-coordinate space,\n",
    "representing the system's dynamics.\n",
    "For illustration, using ``tau=4`` and ``embedding=40``, we generate 40\n",
    "delayed versions of the time series, each offset by 4 time steps, resulting\n",
    "in a maximum shift of ``tau x embedding = 160``. Given our dataset's\n",
    "6-hour intervals, tau = 4 translates to a 24-hour shift.\n",
    "It's obvious that this way of constructing the lagged covariance matrix\n",
    "and subsequently decomposing it can be computationally expensive. For example,\n",
    "given our dataset's dimensions,\n",
    "\n"
   ]
  },
  {
   "cell_type": "code",
   "execution_count": null,
   "metadata": {},
   "outputs": [],
   "source": [
    "t2m.shape"
   ]
  },
  {
   "cell_type": "markdown",
   "metadata": {},
   "source": [
    "the extended dataset would have 40 x 25 x 53 = 53000 features\n",
    "which is much larger than the original dataset's 1325 features.\n",
    "To mitigate this, we can first preprocess the data using PCA / EOF analysis\n",
    "and then perform EEOF analysis on the resulting PCA / EOF scores. Here,\n",
    "we'll use ``n_pca_modes=50`` to retain the first 50 PCA modes, so we end\n",
    "up with 40 x 50 = 200 (latent) features.\n",
    "With these parameters set, we proceed to instantiate the ``ExtendedEOF``\n",
    "model and fit our data.\n",
    "\n"
   ]
  },
  {
   "cell_type": "code",
   "execution_count": null,
   "metadata": {},
   "outputs": [],
   "source": [
    "model = xe.models.ExtendedEOF(\n",
    "    n_modes=10, tau=4, embedding=40, n_pca_modes=50, use_coslat=True\n",
    ")\n",
    "model.fit(t2m, dim=\"time\")\n",
    "scores = model.scores()\n",
    "components = model.components()\n",
    "components"
   ]
  },
  {
   "cell_type": "markdown",
   "metadata": {},
   "source": [
    "A notable distinction from standard EOF analysis is the incorporation of an\n",
    "extra ``embedding`` dimension in the components. Nonetheless, the\n",
    "overarching methodology mirrors traditional EOF practices. The results,\n",
    "for instance, can be assessed by examining the explained variance ratio.\n",
    "\n"
   ]
  },
  {
   "cell_type": "code",
   "execution_count": null,
   "metadata": {},
   "outputs": [],
   "source": [
    "model.explained_variance_ratio().plot()\n",
    "plt.show()"
   ]
  },
  {
   "cell_type": "markdown",
   "metadata": {},
   "source": [
    "Additionally, we can look into the scores; let's spotlight mode 4.\n",
    "\n"
   ]
  },
  {
   "cell_type": "code",
   "execution_count": null,
   "metadata": {},
   "outputs": [],
   "source": [
    "scores.sel(mode=4).plot()\n",
    "plt.show()"
   ]
  },
  {
   "cell_type": "markdown",
   "metadata": {},
   "source": [
    "In wrapping up, we visualize the corresponding EEOF component of mode 4.\n",
    "For visualization purposes, we'll focus on the component at a specific\n",
    "latitude, in this instance, 60 degrees north.\n",
    "\n"
   ]
  },
  {
   "cell_type": "code",
   "execution_count": null,
   "metadata": {},
   "outputs": [],
   "source": [
    "components.sel(mode=4, lat=60).plot()\n",
    "plt.show()"
   ]
  }
 ],
 "metadata": {
  "kernelspec": {
   "display_name": "Python 3",
   "language": "python",
   "name": "python3"
  },
  "language_info": {
   "codemirror_mode": {
    "name": "ipython",
    "version": 3
   },
   "file_extension": ".py",
   "mimetype": "text/x-python",
   "name": "python",
   "nbconvert_exporter": "python",
   "pygments_lexer": "ipython3",
   "version": "3.11.8"
  }
 },
 "nbformat": 4,
 "nbformat_minor": 0
}
