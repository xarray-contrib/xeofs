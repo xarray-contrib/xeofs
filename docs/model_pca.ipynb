{
 "cells": [
  {
   "cell_type": "markdown",
   "metadata": {},
   "source": [
    "#### EOF Analysis"
   ]
  },
  {
   "cell_type": "markdown",
   "metadata": {},
   "source": [
    "Empirical Orthogonal Function (EOF) analysis, also known as Principal Component Analysis (PCA), has become an invaluable tool in climate science since its popularization by Lorenz in 1956. This method provides significant benefits, including the simplification of complex multivariate datasets, identification of major variability patterns, and reduction of data dimensionality.\n",
    "\n",
    "#### How Does It Work?\n",
    "\n",
    "EOF analysis works by decomposing a dataset's covariance (or correlation) matrix into eigenvalues and eigenvectors. The eigenvectors, or Empirical Orthogonal Functions (EOFs), portray spatial patterns (the *components* in `xeofs`), while the eigenvalues indicate the variance that each pattern explains. Correspondingly, Principal Components (PCs) act as the time coefficients for the EOF patterns (the *scores* in `xeofs`). In essence, EOFs and PCs offer a new set of orthogonal basis vectors that describe the dataset's variability optimally.\n",
    "\n",
    "#### An Example: North American Air Temperatures between 2013-2014\n",
    "In this section, we'll conduct an EOF analysis of two-year temperature records across North America using the `xeofs` package. We'll load all required packages, retrieve the data, and perform the analysis."
   ]
  },
  {
   "cell_type": "code",
   "execution_count": null,
   "metadata": {},
   "outputs": [],
   "source": [
    "import xarray as xr\n",
    "import matplotlib.pyplot as plt\n",
    "from matplotlib.gridspec import GridSpec\n",
    "import cartopy.feature as cfeature\n",
    "from cartopy.crs import LambertAzimuthalEqualArea, PlateCarree\n",
    "from xeofs.models import EOF\n",
    "\n",
    "t2m = xr.tutorial.load_dataset(\"air_temperature\")[\"air\"]\n",
    "\n",
    "model = EOF(n_modes=20, standardize=True, use_coslat=True)\n",
    "model.fit(t2m, dim=\"time\")\n",
    "\n",
    "expvar = model.explained_variance_ratio()\n",
    "compontents = model.components()\n",
    "scores = model.scores()"
   ]
  },
  {
   "cell_type": "markdown",
   "metadata": {},
   "source": [
    "Let's create a plot visualising the results of the EOF analysis."
   ]
  },
  {
   "cell_type": "code",
   "execution_count": null,
   "metadata": {},
   "outputs": [],
   "source": [
    "def plot_pca_results(mode):\n",
    "    proj = LambertAzimuthalEqualArea(central_latitude=50, central_longitude=-90)\n",
    "    proj_data = PlateCarree()\n",
    "\n",
    "    fig = plt.figure(figsize=(9, 3))\n",
    "    gs = GridSpec(1, 2, width_ratios=[1, 2], wspace=0.05)\n",
    "    ax1 = fig.add_subplot(gs[0, 0])\n",
    "    ax2 = fig.add_subplot(gs[0, 1], projection=proj)\n",
    "\n",
    "    scores.sel(mode=mode).plot(ax=ax1)\n",
    "\n",
    "    ax2.add_feature(cfeature.LAND, facecolor=\".9\")\n",
    "    ax2.add_feature(cfeature.OCEAN, facecolor=\".9\")\n",
    "    ax2.coastlines(color=\".5\", lw=0.5)\n",
    "\n",
    "    kwargs = dict(vmin=-0.15, vmax=0.15, cmap=\"RdBu_r\", transform=proj_data)\n",
    "    compontents.sel(mode=mode).plot(ax=ax2, **kwargs)\n",
    "\n",
    "    ax1.set_title(\"Mode {}\".format(mode))\n",
    "    ax2.set_title(\n",
    "        \"Explained variance: {:.1f}%\".format(expvar.sel(mode=mode).values * 100)\n",
    "    )\n",
    "\n",
    "    plt.show()\n",
    "\n",
    "\n",
    "plot_pca_results(1)\n",
    "plot_pca_results(2)\n",
    "plot_pca_results(3)\n",
    "plot_pca_results(4)"
   ]
  },
  {
   "cell_type": "markdown",
   "metadata": {},
   "source": [
    "#### Challenge: Interpretability\n",
    "\n",
    "Despite its popularity for tasks like image processing where its orthogonality property aids in efficient data compression, EOF analysis can pose some interpretive challenges.\n",
    "\n",
    "In climate science, researchers often deal with enormous datasets with high redundancy levels. While EOF analysis can effectively condense these datasets into their most critical modes of variability, thereby enhancing our understanding of the climate system's patterns, dynamics, and variability, it's not without issues. Notably, EOF analysis tends to produce **dense matrices** - where most entries are non-zero - which can make interpretation difficult.\n",
    "\n",
    "Additionally, the imposed **orthogonality** often leads to recognized spatial patterns, like the **Buell patterns** (named after Buell in the 1980s), which manifest as a unipolar first component, bipolar second and third components, and then tripoles, quadrupoles, etc. Misinterpretation often arises here, as these patterns might be misconstrued as geophysical phenomena, when in fact they are more likely mathematical artifacts.\n",
    "\n",
    "The example above illustrates these interpretive challenges. As you navigate through the different modes, you'll observe that each mode is dense, with very few zero values. You'll also detect the Buell patterns present in these modes. Although one could argue that the first mode signifies a domain-wide feature, such as the seasonal cycle, and the second mode captures the difference in the seasonal cycle between the continental and oceanic regions, wouldn't it be more straightforward to have two separate modes representing the seasonal cycles for each region? To tackle this, we can use a technique known as Varimax/Promax rotation, which we'll explain in the following section.\n",
    "\n",
    "\n",
    "\n",
    "\n"
   ]
  }
 ],
 "metadata": {
  "kernelspec": {
   "display_name": "xeofs",
   "language": "python",
   "name": "python3"
  },
  "language_info": {
   "codemirror_mode": {
    "name": "ipython",
    "version": 3
   },
   "file_extension": ".py",
   "mimetype": "text/x-python",
   "name": "python",
   "nbconvert_exporter": "python",
   "pygments_lexer": "ipython3",
   "version": "3.11.4"
  }
 },
 "nbformat": 4,
 "nbformat_minor": 4
}
